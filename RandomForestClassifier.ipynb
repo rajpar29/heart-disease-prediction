{
 "cells": [
  {
   "cell_type": "code",
   "execution_count": 1,
   "metadata": {},
   "outputs": [],
   "source": [
    "\n",
    "from sklearn.model_selection import train_test_split\n",
    "import pandas as pd\n",
    "import matplotlib.pyplot as plt\n",
    "from joblib import dump\n",
    "import matplotlib.cm as cm\n",
    "import numpy as np\n",
    "from sklearn.ensemble import RandomForestClassifier\n"
   ]
  },
  {
   "cell_type": "code",
   "execution_count": 2,
   "metadata": {},
   "outputs": [
    {
     "name": "stdout",
     "output_type": "stream",
     "text": [
      "          age  trestbps      chol   thalach   oldpeak  target  sex_0  sex_1  \\\n",
      "0    0.952197  0.763956 -0.256334  0.015443  1.087338       1      0      1   \n",
      "1   -1.915313 -0.092738  0.072199  1.633471  2.122573       1      0      1   \n",
      "2   -1.474158 -0.092738 -0.816773  0.977514  0.310912       1      1      0   \n",
      "3    0.180175 -0.663867 -0.198357  1.239897 -0.206705       1      0      1   \n",
      "4    0.290464 -0.663867  2.082050  0.583939 -0.379244       1      1      0   \n",
      "..        ...       ...       ...       ...       ...     ...    ...    ...   \n",
      "298  0.290464  0.478391 -0.101730 -1.165281 -0.724323       0      1      0   \n",
      "299 -1.033002 -1.234996  0.342756 -0.771706  0.138373       0      0      1   \n",
      "300  1.503641  0.706843 -1.029353 -0.378132  2.036303       0      0      1   \n",
      "301  0.290464 -0.092738 -2.227533 -1.515125  0.138373       0      0      1   \n",
      "302  0.290464 -0.092738 -0.198357  1.064975 -0.896862       0      1      0   \n",
      "\n",
      "     cp_0  cp_1  ...  slope_2  ca_0  ca_1  ca_2  ca_3  ca_4  thal_0  thal_1  \\\n",
      "0       0     0  ...        0     1     0     0     0     0       0       1   \n",
      "1       0     0  ...        0     1     0     0     0     0       0       0   \n",
      "2       0     1  ...        1     1     0     0     0     0       0       0   \n",
      "3       0     1  ...        1     1     0     0     0     0       0       0   \n",
      "4       1     0  ...        1     1     0     0     0     0       0       0   \n",
      "..    ...   ...  ...      ...   ...   ...   ...   ...   ...     ...     ...   \n",
      "298     1     0  ...        0     1     0     0     0     0       0       0   \n",
      "299     0     0  ...        0     1     0     0     0     0       0       0   \n",
      "300     1     0  ...        0     0     0     1     0     0       0       0   \n",
      "301     1     0  ...        0     0     1     0     0     0       0       0   \n",
      "302     0     1  ...        0     0     1     0     0     0       0       0   \n",
      "\n",
      "     thal_2  thal_3  \n",
      "0         0       0  \n",
      "1         1       0  \n",
      "2         1       0  \n",
      "3         1       0  \n",
      "4         1       0  \n",
      "..      ...     ...  \n",
      "298       0       1  \n",
      "299       0       1  \n",
      "300       0       1  \n",
      "301       0       1  \n",
      "302       1       0  \n",
      "\n",
      "[303 rows x 31 columns]\n"
     ]
    }
   ],
   "source": [
    "dataset = pd.read_pickle(\"clean_data\")\n",
    "print(dataset)\n"
   ]
  },
  {
   "cell_type": "code",
   "execution_count": 3,
   "metadata": {},
   "outputs": [],
   "source": [
    "y = dataset['target']\n",
    "X = dataset.drop(['target'], axis = 1)\n",
    "X_train, X_test, y_train, y_test = train_test_split(X, y, test_size = 0.30, random_state = 0)\n"
   ]
  },
  {
   "cell_type": "code",
   "execution_count": 4,
   "metadata": {},
   "outputs": [],
   "source": [
    "rf_scores = []\n",
    "estimators = [10, 100, 200, 500, 1000]\n",
    "for i in estimators:\n",
    "    rf_classifier = RandomForestClassifier(n_estimators = i, random_state = 0)\n",
    "    rf_classifier.fit(X_train, y_train)\n",
    "    rf_scores.append(rf_classifier.score(X_test, y_test))\n"
   ]
  },
  {
   "cell_type": "code",
   "execution_count": 5,
   "metadata": {},
   "outputs": [
    {
     "data": {
      "text/plain": [
       "Text(0.5, 1.0, 'Random Forest Classifier scores for different number of estimators')"
      ]
     },
     "execution_count": 5,
     "metadata": {},
     "output_type": "execute_result"
    },
    {
     "data": {
      "image/png": "[encoded data removed]",
      "text/plain": [
       "<Figure size 432x288 with 1 Axes>"
      ]
     },
     "metadata": {
      "needs_background": "light"
     },
     "output_type": "display_data"
    }
   ],
   "source": [
    "colors = cm.rainbow(np.linspace(0, 1, len(estimators)))\n",
    "plt.bar([i for i in range(len(estimators))], rf_scores, color = colors, width = 0.8)\n",
    "for i in range(len(estimators)):\n",
    "    plt.text(i, rf_scores[i], rf_scores[i])\n",
    "plt.xticks(ticks = [i for i in range(len(estimators))], labels = [str(estimator) for estimator in estimators])\n",
    "plt.xlabel('Number of estimators')\n",
    "plt.ylabel('Scores')\n",
    "plt.title('Random Forest Classifier scores for different number of estimators')\n"
   ]
  },
  {
   "cell_type": "code",
   "execution_count": 6,
   "metadata": {},
   "outputs": [
    {
     "data": {
      "text/plain": [
       "[0.8681318681318682,\n",
       " 0.8461538461538461,\n",
       " 0.8351648351648352,\n",
       " 0.8351648351648352,\n",
       " 0.8351648351648352]"
      ]
     },
     "execution_count": 6,
     "metadata": {},
     "output_type": "execute_result"
    }
   ],
   "source": [
    "rf_scores"
   ]
  },
  {
   "cell_type": "code",
   "execution_count": 7,
   "metadata": {},
   "outputs": [
    {
     "data": {
      "text/plain": [
       "RandomForestClassifier(bootstrap=True, ccp_alpha=0.0, class_weight=None,\n",
       "                       criterion='gini', max_depth=None, max_features='auto',\n",
       "                       max_leaf_nodes=None, max_samples=None,\n",
       "                       min_impurity_decrease=0.0, min_impurity_split=None,\n",
       "                       min_samples_leaf=1, min_samples_split=2,\n",
       "                       min_weight_fraction_leaf=0.0, n_estimators=10,\n",
       "                       n_jobs=None, oob_score=False, random_state=0, verbose=0,\n",
       "                       warm_start=False)"
      ]
     },
     "execution_count": 7,
     "metadata": {},
     "output_type": "execute_result"
    }
   ],
   "source": [
    "rf_classifier = RandomForestClassifier(n_estimators = 10, random_state = 0)\n",
    "rf_classifier.fit(X_train, y_train)\n"
   ]
  },
  {
   "cell_type": "code",
   "execution_count": 8,
   "metadata": {},
   "outputs": [
    {
     "data": {
      "text/plain": [
       "['RandomForestClassifier.joblib.z']"
      ]
     },
     "execution_count": 8,
     "metadata": {},
     "output_type": "execute_result"
    }
   ],
   "source": [
    "dump(rf_classifier, 'RandomForestClassifier.joblib.z')\n"
   ]
  },
  {
   "cell_type": "code",
   "execution_count": null,
   "metadata": {},
   "outputs": [],
   "source": []
  }
 ],
 "metadata": {
  "kernelspec": {
   "display_name": "Python 3",
   "language": "python",
   "name": "python3"
  },
  "language_info": {
   "codemirror_mode": {
    "name": "ipython",
    "version": 3
   },
   "file_extension": ".py",
   "mimetype": "text/x-python",
   "name": "python",
   "nbconvert_exporter": "python",
   "pygments_lexer": "ipython3",
   "version": "3.6.9"
  }
 },
 "nbformat": 4,
 "nbformat_minor": 1
}
