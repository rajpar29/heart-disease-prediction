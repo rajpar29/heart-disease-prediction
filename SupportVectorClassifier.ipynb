{
 "cells": [
  {
   "cell_type": "code",
   "execution_count": 1,
   "metadata": {
    "collapsed": true,
    "pycharm": {
     "is_executing": false
    }
   },
   "outputs": [],
   "source": [
    "from sklearn.model_selection import train_test_split\n",
    "import pandas as pd\n",
    "import matplotlib.pyplot as plt\n",
    "from joblib import dump\n",
    "from sklearn.svm import SVC\n",
    "import matplotlib.cm as cm\n",
    "import numpy as np"
   ]
  },
  {
   "cell_type": "code",
   "execution_count": 2,
   "metadata": {
    "pycharm": {
     "is_executing": false,
     "name": "#%%\n"
    }
   },
   "outputs": [
    {
     "name": "stdout",
     "output_type": "stream",
     "text": [
      "          age  trestbps      chol   thalach   oldpeak  target  sex_0  sex_1  \\\n",
      "0    0.952197  0.763956 -0.256334  0.015443  1.087338       1      0      1   \n",
      "1   -1.915313 -0.092738  0.072199  1.633471  2.122573       1      0      1   \n",
      "2   -1.474158 -0.092738 -0.816773  0.977514  0.310912       1      1      0   \n",
      "3    0.180175 -0.663867 -0.198357  1.239897 -0.206705       1      0      1   \n",
      "4    0.290464 -0.663867  2.082050  0.583939 -0.379244       1      1      0   \n",
      "..        ...       ...       ...       ...       ...     ...    ...    ...   \n",
      "298  0.290464  0.478391 -0.101730 -1.165281 -0.724323       0      1      0   \n",
      "299 -1.033002 -1.234996  0.342756 -0.771706  0.138373       0      0      1   \n",
      "300  1.503641  0.706843 -1.029353 -0.378132  2.036303       0      0      1   \n",
      "301  0.290464 -0.092738 -2.227533 -1.515125  0.138373       0      0      1   \n",
      "302  0.290464 -0.092738 -0.198357  1.064975 -0.896862       0      1      0   \n",
      "\n",
      "     cp_0  cp_1  ...  slope_2  ca_0  ca_1  ca_2  ca_3  ca_4  thal_0  thal_1  \\\n",
      "0       0     0  ...        0     1     0     0     0     0       0       1   \n",
      "1       0     0  ...        0     1     0     0     0     0       0       0   \n",
      "2       0     1  ...        1     1     0     0     0     0       0       0   \n",
      "3       0     1  ...        1     1     0     0     0     0       0       0   \n",
      "4       1     0  ...        1     1     0     0     0     0       0       0   \n",
      "..    ...   ...  ...      ...   ...   ...   ...   ...   ...     ...     ...   \n",
      "298     1     0  ...        0     1     0     0     0     0       0       0   \n",
      "299     0     0  ...        0     1     0     0     0     0       0       0   \n",
      "300     1     0  ...        0     0     0     1     0     0       0       0   \n",
      "301     1     0  ...        0     0     1     0     0     0       0       0   \n",
      "302     0     1  ...        0     0     1     0     0     0       0       0   \n",
      "\n",
      "     thal_2  thal_3  \n",
      "0         0       0  \n",
      "1         1       0  \n",
      "2         1       0  \n",
      "3         1       0  \n",
      "4         1       0  \n",
      "..      ...     ...  \n",
      "298       0       1  \n",
      "299       0       1  \n",
      "300       0       1  \n",
      "301       0       1  \n",
      "302       1       0  \n",
      "\n",
      "[303 rows x 31 columns]\n"
     ]
    }
   ],
   "source": [
    "\n",
    "dataset = pd.read_pickle(\"clean_data\")\n",
    "print(dataset)"
   ]
  },
  {
   "cell_type": "code",
   "execution_count": 3,
   "metadata": {
    "pycharm": {
     "is_executing": false,
     "name": "#%%\n"
    }
   },
   "outputs": [],
   "source": [
    "y = dataset['target']\n",
    "X = dataset.drop(['target'], axis = 1)\n",
    "X_train, X_test, y_train, y_test = train_test_split(X, y, test_size = 0.30, random_state = 0)\n"
   ]
  },
  {
   "cell_type": "code",
   "execution_count": 4,
   "metadata": {
    "pycharm": {
     "is_executing": false,
     "name": "#%%\n"
    }
   },
   "outputs": [],
   "source": [
    "\n",
    "svc_scores = []\n",
    "kernels = ['linear', 'poly', 'rbf', 'sigmoid']\n",
    "for i in range(len(kernels)):\n",
    "    svc_classifier = SVC(kernel = kernels[i])\n",
    "    svc_classifier.fit(X_train, y_train)\n",
    "    svc_scores.append(svc_classifier.score(X_test, y_test))\n"
   ]
  },
  {
   "cell_type": "code",
   "execution_count": 5,
   "metadata": {
    "pycharm": {
     "is_executing": false,
     "name": "#%%\n"
    }
   },
   "outputs": [
    {
     "data": {
      "text/plain": [
       "Text(0.5, 1.0, 'Support Vector Classifier scores for different kernels')"
      ]
     },
     "execution_count": 5,
     "metadata": {},
     "output_type": "execute_result"
    },
    {
     "data": {
      "image/png": "[encoded data removed]",
      "text/plain": [
       "<Figure size 432x288 with 1 Axes>"
      ]
     },
     "metadata": {
      "needs_background": "light"
     },
     "output_type": "display_data"
    }
   ],
   "source": [
    "colors = cm.rainbow(np.linspace(0, 1, len(kernels)))\n",
    "plt.bar(kernels, svc_scores, color = colors)\n",
    "for i in range(len(kernels)):\n",
    "    plt.text(i, svc_scores[i], svc_scores[i])\n",
    "plt.xlabel('Kernels')\n",
    "plt.ylabel('Scores')\n",
    "plt.title('Support Vector Classifier scores for different kernels')\n"
   ]
  },
  {
   "cell_type": "code",
   "execution_count": 6,
   "metadata": {
    "pycharm": {
     "is_executing": false,
     "name": "#%%\n"
    }
   },
   "outputs": [
    {
     "name": "stdout",
     "output_type": "stream",
     "text": [
      "The score for Support Vector Classifier is 84.61538461538461% with linear kernel.\n"
     ]
    }
   ],
   "source": [
    "\n",
    "print(\"The score for Support Vector Classifier is {}% with {} kernel.\".format(svc_scores[0]*100, 'linear'))"
   ]
  },
  {
   "cell_type": "code",
   "execution_count": 8,
   "metadata": {
    "pycharm": {
     "is_executing": false,
     "name": "#%%\n"
    }
   },
   "outputs": [
    {
     "data": {
      "text/plain": [
       "0.8461538461538461"
      ]
     },
     "execution_count": 8,
     "metadata": {},
     "output_type": "execute_result"
    }
   ],
   "source": [
    "svc_classifier = SVC(kernel='linear')\n",
    "svc_classifier.fit(X_train,y_train)\n",
    "svc_classifier.score(X_test,y_test)"
   ]
  },
  {
   "cell_type": "code",
   "execution_count": 9,
   "metadata": {},
   "outputs": [
    {
     "data": {
      "text/plain": [
       "['SVC_linear_classifier.jobliz.z']"
      ]
     },
     "execution_count": 9,
     "metadata": {},
     "output_type": "execute_result"
    }
   ],
   "source": [
    "dump(svc_classifier, 'SVC_linear_classifier.jobliz.z')"
   ]
  },
  {
   "cell_type": "code",
   "execution_count": null,
   "metadata": {},
   "outputs": [],
   "source": []
  }
 ],
 "metadata": {
  "kernelspec": {
   "display_name": "Python 3",
   "language": "python",
   "name": "python3"
  },
  "language_info": {
   "codemirror_mode": {
    "name": "ipython",
    "version": 3
   },
   "file_extension": ".py",
   "mimetype": "text/x-python",
   "name": "python",
   "nbconvert_exporter": "python",
   "pygments_lexer": "ipython3",
   "version": "3.6.9"
  },
  "pycharm": {
   "stem_cell": {
    "cell_type": "raw",
    "source": [],
    "metadata": {
     "collapsed": false
    }
   }
  }
 },
 "nbformat": 4,
 "nbformat_minor": 1
}